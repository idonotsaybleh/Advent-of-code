{
 "cells": [
  {
   "cell_type": "code",
   "execution_count": 2,
   "metadata": {},
   "outputs": [
    {
     "name": "stdout",
     "output_type": "stream",
     "text": [
      "Enter the Temperature of water in celcius : 29\n",
      "Enter the mass of the disk : 2\n",
      "Enter the radius of the disk : 3\n",
      "\n",
      "Type y to move on to the next step : y\n",
      "\n",
      "Water temperature :  29\n",
      "Temperature of the hemisphere :  25\n",
      "\n",
      "The steady temperature of the hemisphere has reached.\n",
      "\n",
      "Initial temperature of the black body =  25\n",
      "\n",
      "Next Step: Insert the black body\n",
      "\n",
      "Type y to move on to the next step:y\n",
      "26.415316553327898\n",
      "26.273784897995142\n",
      "27.33631601807201\n",
      "27.147457882640936\n",
      "27.931857251073552\n",
      "27.74372907015095\n",
      "28.315348886700804\n",
      "28.14928088622827\n",
      "28.561625709977534\n",
      "28.424465754329503\n",
      "28.719507014325472\n",
      "28.610890414772143\n",
      "28.820606341968073\n",
      "28.737045964839012\n",
      "28.885298472763736\n",
      "28.8223533146018\n",
      "28.926674913468673\n",
      "28.880009745807342\n",
      "28.953131010211223\n",
      "28.91896454789412\n",
      "[25, 26.415316553327898, 27.33631601807201, 27.931857251073552, 28.315348886700804, 28.561625709977534, 28.719507014325472, 28.820606341968073, 28.885298472763736, 28.926674913468673, 28.953131010211223]\n"
     ]
    },
    {
     "data": {
      "text/plain": [
       "[<matplotlib.lines.Line2D at 0x7f20508d68b0>]"
      ]
     },
     "execution_count": 2,
     "metadata": {},
     "output_type": "execute_result"
    },
    {
     "data": {
      "image/png": "[encoded data removed]",
      "text/plain": [
       "<Figure size 432x288 with 1 Axes>"
      ]
     },
     "metadata": {
      "needs_background": "light"
     },
     "output_type": "display_data"
    }
   ],
   "source": [
    "import time\n",
    "import numpy as np\n",
    "from matplotlib import pyplot as plt\n",
    "%matplotlib inline\n",
    "\n",
    "\n",
    "Water_temp = int(input(\"Enter the Temperature of water in celcius : \"))\n",
    "Room_temp = 25\n",
    "Hem_temp = Room_temp\n",
    "\n",
    "mass = int(input(\"Enter the mass of the disk : \"))\n",
    "Radius = float(input(\"Enter the radius of the disk : \"))\n",
    "time.sleep(1)\n",
    "ans = str(input(\"\\nType y to move on to the next step : \"))\n",
    "\n",
    "print(\"\\nWater temperature : \", Water_temp)\n",
    "print(\"Temperature of the hemisphere : \", Hem_temp)\n",
    "time.sleep(1)\n",
    "\n",
    "if ans=='y':\n",
    "    Hem_temp = Water_temp\n",
    "\n",
    "time.sleep(1)\n",
    "\n",
    "print(\"\\nThe steady temperature of the hemisphere has reached.\")\n",
    "time.sleep(1)\n",
    "\n",
    "BB_temp = Room_temp\n",
    "time.sleep(1)\n",
    "print(\"\\nInitial temperature of the black body = \",BB_temp)\n",
    "time.sleep(1)\n",
    "print(\"\\nNext Step: Insert the black body\")\n",
    "ans = str(input(\"\\nType y to move on to the next step:\"))\n",
    "\n",
    "A = (np.pi*(Radius*10**(-2))**2)  #we'll get that from the user\n",
    "CP= 24.47                         #depends on the solid \n",
    "Sigma = 5.67051*10**(-8)\n",
    "\n",
    "constant = (Sigma*A)/(mass*10**(-3)*CP)\n",
    "constant1 = 0.9*constant\n",
    "\n",
    "#Change temperature in SI units\n",
    "Hem_temp+=273\n",
    "BB_temp+=273\n",
    "BB_temp1=Room_temp+273\n",
    "\n",
    "y=[BB_temp-273]\n",
    "yr=[BB_temp-273]\n",
    "\n",
    "\n",
    "if ans=='y':\n",
    "    for t in range(10):\n",
    "        if BB_temp>Hem_temp:\n",
    "            break\n",
    "        \n",
    "        T = constant*(Hem_temp**4 - BB_temp**4) + BB_temp  \n",
    "        T1 = constant1*(Hem_temp**4 - BB_temp1**4) + BB_temp1\n",
    "        BB_temp = T\n",
    "        BB_temp1 = T1\n",
    "        print(T-273)\n",
    "        print(T1-273)\n",
    "        y.append(T-273)\n",
    "        yr.append(T1-273)\n",
    "      \n",
    "        time.sleep(1)\n",
    "        \n",
    "        \n",
    "from matplotlib import pyplot as plt\n",
    "%matplotlib inline\n",
    "print(y)\n",
    "\n",
    "plt.plot(y)\n",
    "plt.xlabel('Time')\n",
    "plt.ylabel('Temperature')\n",
    "plt.plot(yr)\n",
    "#Some code that gives temperature change of the blackbody wrt time\n",
    "\n",
    "#some code to give out values of temperature with passing time (similar to loading shit)\n",
    "    \n",
    "    "
   ]
  },
  {
   "cell_type": "code",
   "execution_count": null,
   "metadata": {},
   "outputs": [],
   "source": [
    "from matplotlib import pyplot as plt\n",
    "%matplotlib inline\n",
    "\n",
    "materials = [\"Aluminium\", \"Asphalt\", \"Basalt\", \"Beryllium\", \"Cadmium\", \"Cement\", \"Coal\"]\n",
    "list_coeff = [0.04,0.93,0.72,0.18,0.02,0.54,0.8]\n",
    "Specific_heat = [0.89,0.9,0.6,1.825,0.232,0.92,1.26]\n",
    "\n",
    "for e, Cp in zip(list_coeff,Specific_heat):\n",
    "    BB_temp1=Room_temp+273\n",
    "    yr=[BB_temp1-273]\n",
    "    constant1 = (Sigma*A)/(mass*10**(-3)*Cp)\n",
    "    for t in range(0,10):\n",
    "        T1 = (e*constant)*(Hem_temp**4 - BB_temp1**4) + BB_temp1\n",
    "        BB_temp1 = T1\n",
    "        yr.append(T1-273)\n",
    "    plt.plot(yr)\n",
    "    \n",
    "plt.xlabel(\"Time\")\n",
    "plt.ylabel(\"Temperature\")\n",
    "\n",
    "\n",
    "plt.legend(materials)\n",
    "plt.show()"
   ]
  },
  {
   "cell_type": "code",
   "execution_count": 13,
   "metadata": {},
   "outputs": [
    {
     "name": "stdout",
     "output_type": "stream",
     "text": [
      "Enter the Temperature of water in celcius : 50\n",
      "Enter the mass of the disk : 5\n",
      "Enter the radius of the disk : 5\n",
      "\n",
      "Type y to move on to the next step : y\n",
      "\n",
      "Water temperature :  50\n",
      "Temperature of the hemisphere :  25\n",
      "\n",
      "The steady temperature of the hemisphere has reached.\n",
      "Next Step: Insert the black body\n",
      "Initial temperature of the black body =  25\n",
      "\n",
      "Type y to move on to the next step:y\n",
      "35.914305950220296\n",
      "42.38642622151542\n",
      "45.99204073987744\n",
      "47.9222624182471\n",
      "48.9319187436825\n",
      "49.45338370442306\n",
      "49.720903278551475\n",
      "49.857665890177316\n",
      "49.92745658136835\n",
      "49.96303833046204\n",
      "[25, 35.914305950220296, 42.38642622151542, 45.99204073987744, 47.9222624182471, 48.9319187436825, 49.45338370442306, 49.720903278551475, 49.857665890177316, 49.92745658136835, 49.96303833046204]\n"
     ]
    },
    {
     "data": {
      "image/png": "[encoded data removed]",
      "text/plain": [
       "<Figure size 432x288 with 1 Axes>"
      ]
     },
     "metadata": {
      "needs_background": "light"
     },
     "output_type": "display_data"
    }
   ],
   "source": [
    "import time\n",
    "import numpy as np\n",
    "from matplotlib import pyplot as plt\n",
    "%matplotlib inline\n",
    "\n",
    "\n",
    "Water_temp = int(input(\"Enter the Temperature of water in celcius : \"))\n",
    "Room_temp = 25\n",
    "Hem_temp = Room_temp\n",
    "\n",
    "mass = int(input(\"Enter the mass of the disk : \"))\n",
    "Radius = float(input(\"Enter the radius of the disk : \"))\n",
    "#time.sleep(1)\n",
    "ans = str(input(\"\\nType y to move on to the next step : \"))\n",
    "\n",
    "print(\"\\nWater temperature : \", Water_temp)\n",
    "#time.sleep(1)\n",
    "print(\"Temperature of the hemisphere : \", Hem_temp)\n",
    "#time.sleep(1)\n",
    "\n",
    "if ans=='y':\n",
    "    Hem_temp = Water_temp\n",
    "\n",
    "#time.sleep(1)\n",
    "\n",
    "print(\"\\nThe steady temperature of the hemisphere has reached.\")\n",
    "#time.sleep(1)\n",
    "print(\"Next Step: Insert the black body\")\n",
    "BB_temp = Room_temp\n",
    "#time.sleep(1)\n",
    "print(\"Initial temperature of the black body = \",BB_temp)\n",
    "#time.sleep(1)\n",
    "ans = str(input(\"\\nType y to move on to the next step:\"))\n",
    "\n",
    "A = (np.pi*(Radius*10**(-2))**2)  #we'll get that from the user\n",
    "CP= 24.47  #depends on the solid \n",
    "Sigma = 5.67051*10**(-8)\n",
    "\n",
    "constant = (Sigma*A)/(mass*10**(-3)*CP)\n",
    "#constant1 = 0.03*constant\n",
    "\n",
    "#Change temperature in SI units\n",
    "Hem_temp+=273\n",
    "BB_temp+=273\n",
    "\n",
    "\n",
    "y=[BB_temp-273]\n",
    "\n",
    "\n",
    "\n",
    "if ans=='y':\n",
    "    for t in range(0,10):\n",
    "        \n",
    "        T = constant*(Hem_temp**4 - BB_temp**4) + BB_temp  \n",
    "       # T1 = constant1*(Hem_temp**4 - BB_temp1**4) + BB_temp1\n",
    "        BB_temp = T\n",
    "       # BB_temp1 = T1\n",
    "        print(T-273)\n",
    "       # print(T1-273)\n",
    "        y.append(T-273)\n",
    "        #yr.append(T1-273)\n",
    "      \n",
    "        #time.sleep(1)\n",
    "        \n",
    "print(y)\n",
    "\n",
    "plt.plot(y)\n",
    "\n",
    "materials = [\"Aluminium\", \"Asphalt\", \"Basalt\", \"Beryllium\", \"Cadmium\", \"Cement\", \"Coal\"]\n",
    "list_coeff = [0.04,0.93,0.72,0.18,0.02,0.54,0.8]\n",
    "Specific_heat = [0.89,0.9,0.6,1.825,0.232,0.92,1.26]\n",
    "\n",
    "for e, Cp in zip(list_coeff,Specific_heat):\n",
    "    BB_temp1=Room_temp+273\n",
    "    yr=[BB_temp1-273]\n",
    "    constant1 = (Sigma*A)/(mass*10**(-3)*Cp)\n",
    "    for t in range(0,10):\n",
    "        T1 = (e*constant)*(Hem_temp**4 - BB_temp1**4) + BB_temp1\n",
    "        BB_temp1 = T1\n",
    "        yr.append(T1-273)\n",
    "    plt.plot(yr)\n",
    "    \n",
    "plt.xlabel(\"Time\")\n",
    "plt.ylabel(\"Temperature\")\n",
    "\n",
    "\n",
    "plt.legend(materials)\n",
    "plt.show()"
   ]
  },
  {
   "cell_type": "code",
   "execution_count": 17,
   "metadata": {},
   "outputs": [
    {
     "data": {
      "text/plain": [
       "[<matplotlib.lines.Line2D at 0x7fe9f93456d0>]"
      ]
     },
     "execution_count": 17,
     "metadata": {},
     "output_type": "execute_result"
    },
    {
     "data": {
      "image/png": "[encoded data removed]",
      "text/plain": [
       "<Figure size 432x288 with 1 Axes>"
      ]
     },
     "metadata": {
      "needs_background": "light"
     },
     "output_type": "display_data"
    }
   ],
   "source": [
    "from matplotlib import pyplot as plt\n",
    "%matplotlib inline\n",
    "\n",
    "x = np.linspace(0,10)\n",
    "y = [25,25.38,25.70,26.03,26.30,26.68,27.06,27.33,27.66,27.98,28.31,28.63,28.9,29.280]\n",
    "\n",
    "plt.plot(y)"
   ]
  },
  {
   "cell_type": "code",
   "execution_count": 14,
   "metadata": {},
   "outputs": [
    {
     "data": {
      "text/latex": [
       "$\\displaystyle - \\frac{\\sqrt{2} \\log{\\left(T^{2} - 50 \\sqrt{2} T + 2500 \\right)}}{1000000} + \\frac{\\sqrt{2} \\log{\\left(T^{2} + 50 \\sqrt{2} T + 2500 \\right)}}{1000000} + \\frac{\\sqrt{2} \\operatorname{atan}{\\left(\\frac{\\sqrt{2} T}{50} - 1 \\right)}}{500000} + \\frac{\\sqrt{2} \\operatorname{atan}{\\left(\\frac{\\sqrt{2} T}{50} + 1 \\right)}}{500000}$"
      ],
      "text/plain": [
       "-sqrt(2)*log(T**2 - 50*sqrt(2)*T + 2500)/1000000 + sqrt(2)*log(T**2 + 50*sqrt(2)*T + 2500)/1000000 + sqrt(2)*atan(sqrt(2)*T/50 - 1)/500000 + sqrt(2)*atan(sqrt(2)*T/50 + 1)/500000"
      ]
     },
     "execution_count": 14,
     "metadata": {},
     "output_type": "execute_result"
    }
   ],
   "source": [
    "import sympy as sp\n",
    "\n",
    "constant = (Sigma*A)/(mass*CP)\n",
    "\n",
    "\n",
    "Tbb=sp.Symbol(\"T\")\n",
    "\n",
    "#function for integrating\n",
    "sp.integrate((1/(Hem_temp**4 + Tbb**4)),Tbb)\n"
   ]
  },
  {
   "cell_type": "code",
   "execution_count": null,
   "metadata": {},
   "outputs": [],
   "source": [
    "#function for heat transfer through radiation\n",
    "def New_temp():\n",
    "    \n",
    "    "
   ]
  },
  {
   "cell_type": "code",
   "execution_count": null,
   "metadata": {},
   "outputs": [],
   "source": [
    "#function for plotting a graph\n",
    "def plot():\n",
    "    "
   ]
  },
  {
   "cell_type": "code",
   "execution_count": 15,
   "metadata": {},
   "outputs": [
    {
     "data": {
      "text/latex": [
       "$\\displaystyle \\begin{cases} \\frac{1.0 \\cdot 2.71828182845905^{T u} \\left(1.0 T u - 1.0\\right)}{u^{2}} & \\text{for}\\: 1.0 u^{2} \\neq 0 \\\\\\frac{T^{2}}{2} & \\text{otherwise} \\end{cases}$"
      ],
      "text/plain": [
       "Piecewise((1.0*2.71828182845905**(T*u)*(1.0*T*u - 1.0)/u**2, Ne(1.0*u**2, 0)), (T**2/2, True))"
      ]
     },
     "execution_count": 15,
     "metadata": {},
     "output_type": "execute_result"
    }
   ],
   "source": [
    "import sympy as sp\n",
    "import math\n",
    "\n",
    "T=sp.Symbol(\"T\")\n",
    "mu = sp.Symbol(\"u\")\n",
    "\n",
    "#function for integrating\n",
    "sp.integrate(T*math.e**(mu*T),T)"
   ]
  }
 ],
 "metadata": {
  "kernelspec": {
   "display_name": "Python 3",
   "language": "python",
   "name": "python3"
  },
  "language_info": {
   "codemirror_mode": {
    "name": "ipython",
    "version": 3
   },
   "file_extension": ".py",
   "mimetype": "text/x-python",
   "name": "python",
   "nbconvert_exporter": "python",
   "pygments_lexer": "ipython3",
   "version": "3.8.10"
  }
 },
 "nbformat": 4,
 "nbformat_minor": 4
}
